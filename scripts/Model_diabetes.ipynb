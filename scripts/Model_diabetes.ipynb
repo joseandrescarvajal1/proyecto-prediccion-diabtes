{
 "cells": [
  {
   "cell_type": "code",
   "execution_count": 1,
   "metadata": {},
   "outputs": [],
   "source": [
    "import numpy as np # linear algebra\n",
    "import pandas as pd # data processing, CSV file I/O (e.g. pd.read_csv)\n",
    "import matplotlib.pyplot as plt #to plot charts\n",
    "import seaborn as sns #used for data visualization\n",
    "import warnings #avoid warning flash\n",
    "warnings.filterwarnings('ignore')\n",
    "\n",
    "\n",
    "import plotly.express as px\n",
    "from plotly.subplots import make_subplots\n",
    "import plotly.graph_objects as go\n",
    "\n",
    "from sklearn.neighbors import KNeighborsClassifier\n",
    "from sklearn.tree import DecisionTreeClassifier\n",
    "from sklearn.ensemble import RandomForestClassifier\n",
    "from sklearn.model_selection import RepeatedStratifiedKFold\n",
    "from sklearn.model_selection import train_test_split\n",
    "from sklearn.metrics import classification_report,confusion_matrix\n",
    "from sklearn.metrics import f1_score, precision_score, recall_score\n",
    "from sklearn.model_selection import GridSearchCV\n"
   ]
  },
  {
   "cell_type": "code",
   "execution_count": 3,
   "metadata": {},
   "outputs": [],
   "source": [
    "df=pd.read_csv(\"/Users/alejandraossayepes/Library/CloudStorage/OneDrive-MIC/00_Maestria/14 Proyecto_1/Modulo_3/proyecto-prediccion-diabtes/proyecto-prediccion-diabtes/data/raw/diabetes.csv\")"
   ]
  },
  {
   "cell_type": "code",
   "execution_count": 4,
   "metadata": {},
   "outputs": [],
   "source": [
    "target_name='Outcome'\n",
    "y= df[target_name]#given predictions - training data \n",
    "X=df.drop(target_name,axis=1)#dropping the Outcome column and keeping all other columns as X"
   ]
  },
  {
   "cell_type": "code",
   "execution_count": 5,
   "metadata": {},
   "outputs": [],
   "source": [
    "X_train, X_test, y_train, y_test= train_test_split(X,y,test_size=0.2,random_state=0)#splitting data in 80% train, 20%test"
   ]
  },
  {
   "cell_type": "code",
   "execution_count": 6,
   "metadata": {},
   "outputs": [
    {
     "data": {
      "text/plain": [
       "((614, 8), (614,))"
      ]
     },
     "execution_count": 6,
     "metadata": {},
     "output_type": "execute_result"
    }
   ],
   "source": [
    "X_train.shape,y_train.shape"
   ]
  },
  {
   "cell_type": "code",
   "execution_count": 7,
   "metadata": {},
   "outputs": [
    {
     "name": "stdout",
     "output_type": "stream",
     "text": [
      "Classification Report is:\n",
      "               precision    recall  f1-score   support\n",
      "\n",
      "           0       0.84      0.89      0.86       107\n",
      "           1       0.71      0.62      0.66        47\n",
      "\n",
      "    accuracy                           0.81       154\n",
      "   macro avg       0.77      0.75      0.76       154\n",
      "weighted avg       0.80      0.81      0.80       154\n",
      "\n",
      "\n",
      " F1:\n",
      " 0.6590909090909092\n",
      "\n",
      " Precision score is:\n",
      " 0.7073170731707317\n",
      "\n",
      " Recall score is:\n",
      " 0.6170212765957447\n",
      "\n",
      " Confusion Matrix:\n",
      "\n"
     ]
    },
    {
     "data": {
      "text/plain": [
       "<Axes: >"
      ]
     },
     "execution_count": 7,
     "metadata": {},
     "output_type": "execute_result"
    },
    {
     "data": {
      "image/png": "[encoded data removed]",
      "text/plain": [
       "<Figure size 640x480 with 2 Axes>"
      ]
     },
     "metadata": {},
     "output_type": "display_data"
    }
   ],
   "source": [
    "#List Hyperparameters to tune\n",
    "knn= KNeighborsClassifier()\n",
    "n_neighbors = list(range(15,25))\n",
    "p=[1,2]\n",
    "weights = ['uniform', 'distance']\n",
    "metric = ['euclidean', 'manhattan', 'minkowski']\n",
    "hyperparameters = dict(n_neighbors=n_neighbors, p=p,weights=weights,metric=metric)\n",
    "cv = RepeatedStratifiedKFold(n_splits=10, n_repeats=3, random_state=1)\n",
    "grid_search = GridSearchCV(estimator=knn, param_grid=hyperparameters, n_jobs=-1, cv=cv, scoring='f1',error_score=0)\n",
    "best_model = grid_search.fit(X_train,y_train)\n",
    "knn_pred = best_model.predict(X_test)\n",
    "\n",
    "\n",
    "print(\"Classification Report is:\\n\",classification_report(y_test,knn_pred))\n",
    "print(\"\\n F1:\\n\",f1_score(y_test,knn_pred))\n",
    "print(\"\\n Precision score is:\\n\",precision_score(y_test,knn_pred))\n",
    "print(\"\\n Recall score is:\\n\",recall_score(y_test,knn_pred))\n",
    "print(\"\\n Confusion Matrix:\\n\")\n",
    "sns.heatmap(confusion_matrix(y_test,knn_pred))"
   ]
  },
  {
   "cell_type": "code",
   "execution_count": 8,
   "metadata": {},
   "outputs": [
    {
     "name": "stdout",
     "output_type": "stream",
     "text": [
      "Fitting 4 folds for each of 40 candidates, totalling 160 fits\n",
      "Classification Report is:\n",
      "               precision    recall  f1-score   support\n",
      "\n",
      "           0       0.80      0.94      0.86       107\n",
      "           1       0.78      0.45      0.57        47\n",
      "\n",
      "    accuracy                           0.79       154\n",
      "   macro avg       0.79      0.70      0.72       154\n",
      "weighted avg       0.79      0.79      0.77       154\n",
      "\n",
      "\n",
      " F1:\n",
      " 0.5675675675675675\n",
      "\n",
      " Precision score is:\n",
      " 0.7777777777777778\n",
      "\n",
      " Recall score is:\n",
      " 0.44680851063829785\n",
      "\n",
      " Confusion Matrix:\n",
      "\n"
     ]
    },
    {
     "data": {
      "text/plain": [
       "<Axes: >"
      ]
     },
     "execution_count": 8,
     "metadata": {},
     "output_type": "execute_result"
    },
    {
     "data": {
      "image/png": "[encoded data removed]",
      "text/plain": [
       "<Figure size 640x480 with 2 Axes>"
      ]
     },
     "metadata": {},
     "output_type": "display_data"
    }
   ],
   "source": [
    "dt = DecisionTreeClassifier(random_state=42)\n",
    "params = {'max_depth': [5, 10, 20,25], 'min_samples_leaf': [10, 20, 50, 100,120],'criterion': [\"gini\", \"entropy\"]}\n",
    "grid_search = GridSearchCV(estimator=dt, param_grid=params, cv=4, n_jobs=-1, verbose=1, scoring = \"accuracy\")\n",
    "best_model=grid_search.fit(X_train, y_train)\n",
    "dt_pred=best_model.predict(X_test)\n",
    "\n",
    "print(\"Classification Report is:\\n\",classification_report(y_test,dt_pred))\n",
    "print(\"\\n F1:\\n\",f1_score(y_test,dt_pred))\n",
    "print(\"\\n Precision score is:\\n\",precision_score(y_test,dt_pred))\n",
    "print(\"\\n Recall score is:\\n\",recall_score(y_test,dt_pred))\n",
    "print(\"\\n Confusion Matrix:\\n\")\n",
    "sns.heatmap(confusion_matrix(y_test,dt_pred))"
   ]
  },
  {
   "cell_type": "code",
   "execution_count": 9,
   "metadata": {},
   "outputs": [
    {
     "name": "stdout",
     "output_type": "stream",
     "text": [
      "Classification Report is:\n",
      "               precision    recall  f1-score   support\n",
      "\n",
      "           0       0.86      0.88      0.87       107\n",
      "           1       0.71      0.68      0.70        47\n",
      "\n",
      "    accuracy                           0.82       154\n",
      "   macro avg       0.79      0.78      0.78       154\n",
      "weighted avg       0.82      0.82      0.82       154\n",
      "\n",
      "\n",
      " F1:\n",
      " 0.6590909090909092\n",
      "\n",
      " Precision score is:\n",
      " 0.7073170731707317\n",
      "\n",
      " Recall score is:\n",
      " 0.6170212765957447\n",
      "\n",
      " Confusion Matrix:\n",
      "\n"
     ]
    },
    {
     "data": {
      "text/plain": [
       "<Axes: >"
      ]
     },
     "execution_count": 9,
     "metadata": {},
     "output_type": "execute_result"
    },
    {
     "data": {
      "image/png": "[encoded data removed]",
      "text/plain": [
       "<Figure size 640x480 with 2 Axes>"
      ]
     },
     "metadata": {},
     "output_type": "display_data"
    }
   ],
   "source": [
    "model = RandomForestClassifier()\n",
    "n_estimators = [1800]\n",
    "max_features = ['sqrt', 'log2']\n",
    "grid = dict(n_estimators=n_estimators,max_features=max_features)\n",
    "cv = RepeatedStratifiedKFold(n_splits=10, n_repeats=3, random_state=1)\n",
    "grid_search = GridSearchCV(estimator=model, param_grid=grid, n_jobs=-1, cv=cv, scoring='accuracy',error_score=0)\n",
    "\n",
    "best_model = grid_search.fit(X_train, y_train)\n",
    "rf_pred = best_model.predict(X_test)\n",
    "\n",
    "print(\"Classification Report is:\\n\",classification_report(y_test,rf_pred))\n",
    "print(\"\\n F1:\\n\",f1_score(y_test,knn_pred))\n",
    "print(\"\\n Precision score is:\\n\",precision_score(y_test,knn_pred))\n",
    "print(\"\\n Recall score is:\\n\",recall_score(y_test,knn_pred))\n",
    "print(\"\\n Confusion Matrix:\\n\")\n",
    "sns.heatmap(confusion_matrix(y_test,rf_pred))"
   ]
  },
  {
   "cell_type": "code",
   "execution_count": null,
   "metadata": {},
   "outputs": [],
   "source": []
  },
  {
   "cell_type": "code",
   "execution_count": null,
   "metadata": {},
   "outputs": [],
   "source": []
  }
 ],
 "metadata": {
  "kernelspec": {
   "display_name": "base",
   "language": "python",
   "name": "python3"
  },
  "language_info": {
   "codemirror_mode": {
    "name": "ipython",
    "version": 3
   },
   "file_extension": ".py",
   "mimetype": "text/x-python",
   "name": "python",
   "nbconvert_exporter": "python",
   "pygments_lexer": "ipython3",
   "version": "3.11.4"
  }
 },
 "nbformat": 4,
 "nbformat_minor": 2
}
